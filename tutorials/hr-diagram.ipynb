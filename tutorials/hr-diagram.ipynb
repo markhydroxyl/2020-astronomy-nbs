{
 "cells": [
  {
   "cell_type": "markdown",
   "metadata": {},
   "source": [
    "## Hertzsprung-Russell Diagram\n",
    "\n",
    "For main sequence stars, almost all properties of the star are dictated by one parameter: the mass. Reproduce a plot of the H-R diagram for the main sequence stars."
   ]
  },
  {
   "cell_type": "markdown",
   "metadata": {},
   "source": [
    "The empirical relationship between a main sequence star's mass and its luminosity is:\n",
    "\n",
    "$$ \\frac{L}{L_\\odot} \\approx (\\frac{M}{M_\\odot})^{3.5} $$\n",
    "\n",
    "where $L_\\odot$ and $M_\\odot$ are the Sun's luminosity and mass, respectively.\n",
    "\n",
    "The empirical relationship between a main sequence star's mass and its radius is roughly linear:\n",
    "\n",
    "$$ \\frac{R}{R_\\odot} \\approx k \\frac{M}{M_\\odot} $$\n",
    "\n",
    "where $R_\\odot$ is the Sun's radius, and $k$ varies between $1.3$ when $\\frac{M}{M_\\odot}=0.10$ and $0.45$ when $\\frac{M}{M_\\odot}=40$. Of course, $k \\equiv 1$ when $\\frac{M}{M_\\odot}=1$.\n",
    "\n",
    "After calculating the radius of the star, the temperature can then be found by the blackbody radiation equation,\n",
    "\n",
    "$$ L = 4\\pi R^2 \\sigma_B T_s^4 $$\n",
    "\n",
    "where $T_s$ is the star's surface temperature, respectively, and $\\sigma_B = 5.67 × 10^{−8} W m^{−2} K^{−4}$ is the Boltzmann constant."
   ]
  },
  {
   "cell_type": "code",
   "execution_count": 2,
   "metadata": {},
   "outputs": [],
   "source": [
    "import numpy as np\n",
    "import matplotlib.pyplot as plt"
   ]
  },
  {
   "cell_type": "markdown",
   "metadata": {},
   "source": [
    "To find the appropriate value of $k$ for each $M$, two linear interpolations on the three given points is used:"
   ]
  },
  {
   "cell_type": "code",
   "execution_count": 33,
   "metadata": {},
   "outputs": [],
   "source": [
    "def radius(mass):\n",
    "    return np.where(mass <= 1, (4-mass)/3, (769-11*mass)/780)"
   ]
  },
  {
   "cell_type": "markdown",
   "metadata": {},
   "source": [
    "Luminosity in solar units:"
   ]
  },
  {
   "cell_type": "code",
   "execution_count": 34,
   "metadata": {},
   "outputs": [],
   "source": [
    "def luminosity(mass):\n",
    "    return m**3.5"
   ]
  },
  {
   "cell_type": "markdown",
   "metadata": {},
   "source": [
    "The function for temperature in Kelvin, taking the Sun's temperature to be $5700 K$:"
   ]
  },
  {
   "cell_type": "code",
   "execution_count": 45,
   "metadata": {},
   "outputs": [],
   "source": [
    "def temperature(mass):\n",
    "    return 5700*(luminosity(mass)/radius(mass)**2)**0.25"
   ]
  },
  {
   "cell_type": "markdown",
   "metadata": {},
   "source": [
    "In total:"
   ]
  },
  {
   "cell_type": "code",
   "execution_count": 54,
   "metadata": {},
   "outputs": [
    {
     "data": {
      "text/plain": [
       "[<matplotlib.lines.Line2D at 0x7f69bf9e87c0>]"
      ]
     },
     "execution_count": 54,
     "metadata": {},
     "output_type": "execute_result"
    },
    {
     "data": {
      "image/png": "[encoded data removed]",
      "text/plain": [
       "<Figure size 432x288 with 1 Axes>"
      ]
     },
     "metadata": {
      "needs_background": "light"
     },
     "output_type": "display_data"
    }
   ],
   "source": [
    "divs = 30\n",
    "m = np.logspace(-1, np.log(40)/np.log(10), num=divs)\n",
    "l = luminosity(m)\n",
    "t = temperature(m)\n",
    "\n",
    "plt.xlim(3e5, 5e2)\n",
    "plt.ylabel('Luminosity (solar units)')\n",
    "plt.xlabel('Temperature (K)')\n",
    "plt.yscale('log')\n",
    "plt.xscale('log')\n",
    "plt.plot(t, l, '.')"
   ]
  },
  {
   "cell_type": "markdown",
   "metadata": {},
   "source": [
    "Comparing with the actual H-R diagram:\n",
    "\n",
    "<img src=\"https://upload.wikimedia.org/wikipedia/commons/1/17/Hertzsprung-Russel_StarData.png\">"
   ]
  }
 ],
 "metadata": {
  "kernelspec": {
   "display_name": "Python 3",
   "language": "python",
   "name": "python3"
  },
  "language_info": {
   "codemirror_mode": {
    "name": "ipython",
    "version": 3
   },
   "file_extension": ".py",
   "mimetype": "text/x-python",
   "name": "python",
   "nbconvert_exporter": "python",
   "pygments_lexer": "ipython3",
   "version": "3.8.3"
  }
 },
 "nbformat": 4,
 "nbformat_minor": 4
}
