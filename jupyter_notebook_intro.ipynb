{
 "cells": [
  {
   "cell_type": "markdown",
   "metadata": {},
   "source": [
    "# Exercise\n",
    "- open a Jupyter notebook\n",
    "- type the eq'n for the period of a binary\n",
    "- write a func that computes the period of a binary\n",
    "- pay attention to parameters and units!\n",
    "- what is the orbital period for an equal mass binary (i.e. $M_0=M_1=M_{sun}$, a=1000 AU, e=0.9)"
   ]
  },
  {
   "cell_type": "code",
   "execution_count": 1,
   "metadata": {},
   "outputs": [],
   "source": [
    "import numpy as np"
   ]
  },
  {
   "cell_type": "markdown",
   "metadata": {},
   "source": [
    "### Equation for orbital period of a binary\n",
    "\n",
    "Start with the circular case. Since the gravitational attraction is equal to the centripetal force,\n",
    "\n",
    "$$ \\frac{Gm_1m_2}{(r_1 + r_2)^2} = m_1 \\omega^2 r_1 = m_2 \\omega^2 r_2 $$\n",
    "\n",
    "where $r_1$ and $r_2$ are the respective distances between the stars and the center of mass, and $ a = r_1 + r_2 $.\n",
    "\n",
    "Solving for the $r_1$ and $r_2$:\n",
    "$$\\frac{r_1}{a} = \\frac{m_2}{m_1 + m_2}$$\n",
    "\n",
    "$$\\frac{r_2}{a} = \\frac{m_1}{m_1 + m_2}$$\n",
    "\n",
    "Then,\n",
    "\n",
    "$$ \\frac{Gm_1m_2}{a^2} = m_1 \\omega^2 \\frac{a \\cdot m_2}{m_1 + m_2} = m_2 \\omega^2 \\frac{a \\cdot m_1}{m_1 + m_2} $$\n",
    "\n",
    "$$ G = \\omega^2 \\frac{a^3}{m_1 + m_2} $$\n",
    "\n",
    "$$ \\omega^2 = \\frac{G \\cdot (m_1 + m_2)}{a^3} $$\n",
    "\n",
    "Since $ T = 2\\pi / \\omega $,\n",
    "\n",
    "$$ T^2 = 4\\pi^2\\frac{a^3}{G \\cdot(m_1 + m_2)} $$\n",
    "\n",
    "$$ T = 2\\pi\\sqrt{\\frac{a^3}{G \\cdot (m_1 + m_2)}} $$\n",
    "\n",
    "The derivation for the elliptical case is very similar, and yields the same result."
   ]
  },
  {
   "cell_type": "code",
   "execution_count": 2,
   "metadata": {},
   "outputs": [],
   "source": [
    "def mass_toMsun(m, units):\n",
    "    '''\n",
    "    Returns the input mass in solar masses.\n",
    "    \n",
    "    Arguments:\n",
    "    m -- double, mass in specified unit\n",
    "    units -- string, name of the input unit; must be one of\n",
    "                solar masses (M_sun) or kilograms (kg)\n",
    "    \n",
    "    Return:\n",
    "    m -- double, mass in solar masses\n",
    "    '''\n",
    "    \n",
    "    m_sun = 1.98847*10**30 # kg\n",
    "    \n",
    "    if units == \"kg\":\n",
    "        m /= m_sun\n",
    "    \n",
    "    return m\n",
    "\n",
    "def dist_toAU(d, units):\n",
    "    '''\n",
    "    Returns the input distance in AUs.\n",
    "    \n",
    "    Arguments:\n",
    "    d -- double, distance in specified unit\n",
    "    units -- string, name of the input unit; must be one of\n",
    "                astronomical units (AU), meters (m), parsecs (pc), or lightyears (ly)\n",
    "    \n",
    "    Return:\n",
    "    d -- double, distance in AU\n",
    "    '''\n",
    "    \n",
    "    au = 149597870700 # m\n",
    "    \n",
    "    if units == \"m\":\n",
    "        d /= au\n",
    "    elif units == \"pc\":\n",
    "        d *= 648000/np.pi\n",
    "    elif units == \"ly\":\n",
    "        d *= 9460730472580800 / au\n",
    "    \n",
    "    return d\n",
    "\n",
    "def time_fromYr(t, units):\n",
    "    '''\n",
    "    Returns the input time in the specified unit.\n",
    "    \n",
    "    Arguments:\n",
    "    t -- double, time in units of years\n",
    "    units -- string, name of the output unit; must be one of\n",
    "                years (yr), seconds (s), or days (d)\n",
    "    \n",
    "    Return:\n",
    "    t -- double, time in specified units\n",
    "    '''\n",
    "    \n",
    "    if units == \"d\":\n",
    "        t *= 365.242\n",
    "    elif units == \"s\":\n",
    "        t *= 365.242 * 24 * 3600\n",
    "    \n",
    "    return t\n",
    "\n",
    "def binary_period(m1, m2, a, mass_units = \"M_sun\", dist_units = \"AU\", time_units = \"yr\"):\n",
    "    '''\n",
    "    Returns the orbital period of a binary system, given the masses and orbital distance.\n",
    "    \n",
    "    Arguments:\n",
    "    m1 -- double, mass of the 1st object in specified units\n",
    "    m2 -- double, mass of the 2nd object in specified units\n",
    "    a -- double, semi-major axis of orbit in specified units\n",
    "    mass_units -- string (optional), name of the input mass unit;\n",
    "                defaults to solar masses\n",
    "    dist_units -- string (optional), name of the input distance unit;\n",
    "                defaults to astronomical units\n",
    "    time_units -- string (optional), name of the output time unit;\n",
    "                defaults to years\n",
    "    \n",
    "    Return:\n",
    "    t -- double, orbital period in specified units\n",
    "    '''\n",
    "\n",
    "    m1 = mass_toMsun(m1, mass_units)\n",
    "    m2 = mass_toMsun(m2, mass_units)\n",
    "    a = dist_toAU(a, dist_units)\n",
    "    \n",
    "    G = (2 * np.pi)**2\n",
    "    t = 2 * np.pi * np.sqrt(a**3 / (G * (m1 + m2)))\n",
    "    \n",
    "    return time_fromYr(t, time_units)"
   ]
  },
  {
   "cell_type": "code",
   "execution_count": 3,
   "metadata": {},
   "outputs": [
    {
     "data": {
      "text/plain": [
       "22360.679774997898"
      ]
     },
     "execution_count": 3,
     "metadata": {},
     "output_type": "execute_result"
    }
   ],
   "source": [
    "binary_period(1, 1, 1000)"
   ]
  },
  {
   "cell_type": "markdown",
   "metadata": {},
   "source": [
    "Therefore, the orbital period of two objects each of mass $1 M_{sun}$ and with a semi-major axis of $1000 AU$ is equal to $22360 \\space years$."
   ]
  }
 ],
 "metadata": {
  "kernelspec": {
   "display_name": "Python 3",
   "language": "python",
   "name": "python3"
  },
  "language_info": {
   "codemirror_mode": {
    "name": "ipython",
    "version": 3
   },
   "file_extension": ".py",
   "mimetype": "text/x-python",
   "name": "python",
   "nbconvert_exporter": "python",
   "pygments_lexer": "ipython3",
   "version": "3.8.3"
  }
 },
 "nbformat": 4,
 "nbformat_minor": 4
}
